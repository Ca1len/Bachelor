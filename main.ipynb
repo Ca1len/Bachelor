{
 "cells": [
  {
   "cell_type": "code",
   "execution_count": 1,
   "id": "e125a924-eb5b-40f7-ac95-328ec7fae011",
   "metadata": {},
   "outputs": [],
   "source": [
    "import os"
   ]
  },
  {
   "cell_type": "code",
   "execution_count": null,
   "id": "000e5328-6f91-492c-bfaf-eebe7c2bac1c",
   "metadata": {},
   "outputs": [],
   "source": []
  }
 ],
 "metadata": {
  "kernelspec": {
   "display_name": "Slicer 4.13",
   "language": "python",
   "name": "slicer-4.13"
  },
  "language_info": {
   "file_extension": ".py",
   "mimetype": "text/x-python",
   "name": "python",
   "version": "3.9.10"
  }
 },
 "nbformat": 4,
 "nbformat_minor": 5
}
