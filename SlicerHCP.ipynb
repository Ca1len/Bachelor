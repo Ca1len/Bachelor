{
 "cells": [
  {
   "cell_type": "code",
   "execution_count": 1,
   "id": "31d3e286-cf78-46b8-92dc-4b67e0518939",
   "metadata": {},
   "outputs": [],
   "source": [
    "from DICOMLib import DICOMUtils\n",
    "import JupyterNotebooksLib as slicernb\n",
    "import slicer\n",
    "import vtk\n",
    "import sys\n",
    "import numpy as np"
   ]
  },
  {
   "cell_type": "code",
   "execution_count": 2,
   "id": "c13e58a5-bba3-49b4-a025-806227eb7ccd",
   "metadata": {},
   "outputs": [
    {
     "name": "stdout",
     "output_type": "stream",
     "text": [
      "Switching to temporary DICOM database: /tmp/Slicer-/20220327_122538_TempDICOMDatabase\n",
      "Loading with imageIOName: GDCM\n",
      "Window/level found in DICOM tags (center=40.0, width=400.0) has been applied to volume 3: Body 0.5 Venous-Phase CE\n"
     ]
    }
   ],
   "source": [
    "dicomData = '/home/sliceruser/work/Documents/dicoms/native'\n",
    "nodes = []\n",
    "\n",
    "with DICOMUtils.TemporaryDICOMDatabase() as db:\n",
    "    DICOMUtils.importDicom(dicomData, db)\n",
    "    patientUIDs = db.patients()\n",
    "    for patient in patientUIDs:\n",
    "        nodes.extend(DICOMUtils.loadPatientByUID(patient))\n",
    "volumeNode = getNode(nodes[0])\n",
    "tumorNode = slicer.util.loadVolume('resources/Segmentation.nrrd')"
   ]
  },
  {
   "cell_type": "code",
   "execution_count": 3,
   "id": "2def8375-229d-410d-8e45-85e68d0c10a6",
   "metadata": {},
   "outputs": [],
   "source": [
    "tumorVoxels = slicer.util.arrayFromVolume(tumorNode)"
   ]
  },
  {
   "cell_type": "code",
   "execution_count": 4,
   "id": "0f9a45fa-76e1-464f-a0e1-ce5a506b76aa",
   "metadata": {},
   "outputs": [],
   "source": [
    "voxels = slicer.util.arrayFromVolume(volumeNode)"
   ]
  },
  {
   "cell_type": "code",
   "execution_count": 5,
   "id": "688181eb-47c5-4e9a-b534-df5a212eb68c",
   "metadata": {},
   "outputs": [],
   "source": [
    "boneVoxels = (((voxels >= 300) & (voxels <= 1900)) * 1)"
   ]
  },
  {
   "cell_type": "code",
   "execution_count": 6,
   "id": "573fe5f1-1a98-4154-b650-5e86db3c8fec",
   "metadata": {},
   "outputs": [],
   "source": [
    "sphere = vtk.vtkSphereSource()\n",
    "sphere.SetCenter(0,0,-800)\n",
    "sphere.SetRadius(10)\n",
    "model = slicer.modules.models.logic().AddModel(sphere.GetOutputPort())"
   ]
  },
  {
   "cell_type": "code",
   "execution_count": 7,
   "id": "df60ae69-8a69-464b-9386-d6e5a87b4cca",
   "metadata": {},
   "outputs": [],
   "source": [
    "volRenLogic = slicer.modules.volumerendering.logic()\n",
    "displayNode = volRenLogic.CreateDefaultVolumeRenderingNodes(tumorNode)\n",
    "volRenLogic.SetDefaultRenderingMethod(\"VTKGPURayCast\")\n",
    "displayNode.SetVisibility(True)\n",
    "# displayNode.GetVolumePropertyNode().Copy(volRenLogic.GetPresetByName('MR-Default'))\n"
   ]
  },
  {
   "cell_type": "code",
   "execution_count": 8,
   "id": "7cfac178-f75c-4b09-b5ba-5c3050e1dde9",
   "metadata": {},
   "outputs": [],
   "source": [
    "model.GetDisplayNode().SetOpacity(0.4)\n",
    "model.GetDisplayNode().SetColor(1,0,1)"
   ]
  },
  {
   "cell_type": "code",
   "execution_count": 9,
   "id": "339a14a8-17e2-4aa6-af2e-84ccb2ca1bc6",
   "metadata": {},
   "outputs": [],
   "source": [
    "slicernb.AppWindow.setWindowSize(scale=1)"
   ]
  },
  {
   "cell_type": "code",
   "execution_count": 10,
   "id": "0789866c-b878-496a-a43d-18c1bb8be6b5",
   "metadata": {},
   "outputs": [
    {
     "data": {
      "text/html": [
       "\n",
       "        <iframe\n",
       "            width=\"960\"\n",
       "            height=\"768\"\n",
       "            src=\"/desktop/\"\n",
       "            frameborder=\"0\"\n",
       "            allowfullscreen\n",
       "        ></iframe>\n",
       "        "
      ],
      "text/plain": [
       "<JupyterNotebooksLib.widgets.AppWindow object at 0x7fab47124ef0>"
      ]
     },
     "execution_count": 10,
     "metadata": {},
     "output_type": "execute_result"
    }
   ],
   "source": [
    "app = slicernb.AppWindow()\n",
    "app"
   ]
  },
  {
   "cell_type": "code",
   "execution_count": 11,
   "id": "b385b58a-4a8a-4287-a76d-353c5f90a184",
   "metadata": {},
   "outputs": [],
   "source": [
    "cm = vtk.vtkCenterOfMass()\n",
    "p = np.where(tumorVoxels != 0)\n",
    "points = vtk.vtkPoints()\n",
    "for i in range(len(p[0])):\n",
    "    points.InsertNextPoint(p[0][i], p[1][i], p[2][i])\n",
    "\n",
    "\n",
    "polyData = vtk.vtkPolyData()\n",
    "polyData.SetPoints(points)\n",
    "cm.SetInputData(polyData)\n",
    "cm.SetUseScalarsAsWeights(False)\n",
    "cm.Update()\n",
    "centerOfTumor = list(cm.GetCenter())\n",
    "ijk_ras = vtk.vtkMatrix4x4()\n",
    "tumorNode.GetIJKToRASMatrix(ijk_ras)\n",
    "Ras_center = ijk_ras.MultiplyFloatPoint([*centerOfTumor, 1])\n",
    "sphere.SetCenter(Ras_center[:-1])"
   ]
  }
 ],
 "metadata": {
  "kernelspec": {
   "display_name": "Slicer 4.13",
   "language": "python",
   "name": "slicer-4.13"
  },
  "language_info": {
   "file_extension": ".py",
   "mimetype": "text/x-python",
   "name": "python",
   "version": "3.6.7"
  }
 },
 "nbformat": 4,
 "nbformat_minor": 5
}
