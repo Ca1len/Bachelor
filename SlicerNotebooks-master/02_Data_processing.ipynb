{
 "cells": [
  {
   "cell_type": "markdown",
   "metadata": {},
   "source": [
    "# Data processing"
   ]
  },
  {
   "cell_type": "code",
   "execution_count": 1,
   "metadata": {},
   "outputs": [],
   "source": [
    "import JupyterNotebooksLib as slicernb\n",
    "import slicer\n",
    "\n",
    "# Set image viewer size to 50% screen size\n",
    "slicernb.AppWindow.setWindowSize(scale=0.5)\n",
    "slicernb.AppWindow.setContents(\"viewers\")"
   ]
  },
  {
   "cell_type": "markdown",
   "metadata": {},
   "source": [
    "## Image processing"
   ]
  },
  {
   "cell_type": "code",
   "execution_count": null,
   "metadata": {},
   "outputs": [],
   "source": [
    "# Clear scene\n",
    "slicer.mrmlScene.Clear(False)\n",
    "\n",
    "# Load data\n",
    "import SampleData\n",
    "volume = slicer.util.loadVolume('data/MRBrainTumor1.nrrd')\n",
    "\n",
    "# Create output node\n",
    "blurredVolume = slicer.mrmlScene.AddNewNodeByClass(\"vtkMRMLScalarVolumeNode\", \"Filtered\")\n",
    "blurredVolume.CreateDefaultDisplayNodes()\n",
    "\n",
    "# Show 3-over-3 compare layout with original and blurred volume\n",
    "slicernb.showSliceViewAnnotations(True)\n",
    "slicernb.setViewLayout(\"ThreeOverThree\")\n",
    "layoutManager = slicer.app.layoutManager()\n",
    "for sliceViewName in layoutManager.sliceViewNames():\n",
    "    sliceWidget = layoutManager.sliceWidget(sliceViewName)\n",
    "    volumeNodeToShow = volume if sliceWidget.mrmlSliceNode().GetViewGroup() == 0  else blurredVolume\n",
    "    sliceWidget.mrmlSliceCompositeNode().SetBackgroundVolumeID(volumeNodeToShow.GetID())\n",
    "\n",
    "# Create a function for performing the filtering.\n",
    "# This will be executed whenever the slider is moved and released.\n",
    "def threshold(lower=-20, upper=180):\n",
    "    parameters = {\n",
    "        \"InputVolume\": volume.GetID(),\n",
    "        \"OutputVolume\": blurredVolume.GetID(),\n",
    "        \"Lower\": lower,\n",
    "        \"Upper\": upper\n",
    "        }\n",
    "    slicer.cli.runSync(slicer.modules.thresholdscalarvolume, parameters=parameters, update_display=False)\n",
    "    return slicernb.ViewDisplay(\"ThreeOverThree\")\n",
    "\n",
    "# Create slider\n",
    "from ipywidgets import FloatSlider, interact\n",
    "i=interact(threshold,\n",
    "         lower=FloatSlider(150, min=-50, max=300, step=5, continuous_update=False),\n",
    "         upper=FloatSlider(250, min=-50, max=300, step=5, continuous_update=False))"
   ]
  },
  {
   "cell_type": "markdown",
   "metadata": {},
   "source": [
    "## Create model from volume"
   ]
  },
  {
   "cell_type": "code",
   "execution_count": null,
   "metadata": {},
   "outputs": [],
   "source": [
    "# Clear scene\n",
    "slicer.mrmlScene.Clear(False)\n",
    "\n",
    "import SampleData\n",
    "volume = SampleData.SampleDataLogic().downloadCTChest()\n",
    "\n",
    "# Volume render a small (30%) image\n",
    "slicernb.AppWindow.setWindowSize(scale=0.3)\n",
    "slicernb.showVolumeRendering(volume)\n",
    "slicernb.showSliceViewAnnotations(False)\n",
    "\n",
    "display(slicernb.ViewDisplay(\"FourUp\"))\n",
    "\n",
    "# Disable volume rendering to make sure it does not slow down execution\n",
    "slicernb.showVolumeRendering(volume, False)"
   ]
  },
  {
   "cell_type": "code",
   "execution_count": null,
   "metadata": {},
   "outputs": [],
   "source": [
    "# Print all parameters of a CLI module\n",
    "cliModule = slicer.modules.grayscalemodelmaker\n",
    "n=cliModule.cliModuleLogic().CreateNode()\n",
    "for groupIndex in range(n.GetNumberOfParameterGroups()):\n",
    "  for parameterIndex in range(n.GetNumberOfParametersInGroup(groupIndex)):\n",
    "    print('Parameter ({0}/{1}): {2} ({3})'.format(groupIndex, parameterIndex, n.GetParameterName(groupIndex, parameterIndex), n.GetParameterLabel(groupIndex, parameterIndex)))"
   ]
  },
  {
   "cell_type": "code",
   "execution_count": null,
   "metadata": {},
   "outputs": [],
   "source": [
    "# Interactive CLI module execution (with progress reporting)\n",
    "\n",
    "parameters = {}\n",
    "parameters[\"InputVolume\"] = volume.GetID()\n",
    "parameters[\"Threshold\"] = 220\n",
    "outModel = slicer.vtkMRMLModelNode()\n",
    "slicer.mrmlScene.AddNode( outModel )\n",
    "parameters[\"OutputGeometry\"] = outModel.GetID()\n",
    "grayMaker = slicer.modules.grayscalemodelmaker\n",
    "print(\"Creating mesh from volume...\")\n",
    "slicernb.cliRunSync(grayMaker, None, parameters)\n",
    "\n",
    "# Model display in custom orientation\n",
    "slicernb.ModelDisplay(outModel, orientation=[0,-90,0])"
   ]
  },
  {
   "cell_type": "code",
   "execution_count": null,
   "metadata": {},
   "outputs": [],
   "source": [
    "# Set CLI module parameters using interactive widget\n",
    "\n",
    "from ipywidgets import interact_manual\n",
    "@interact_manual(threshold=(-200.0,250,5))\n",
    "def h(threshold=-100):\n",
    "    parameters[\"Threshold\"] = threshold\n",
    "    slicernb.cliRunSync(grayMaker, None, parameters)\n",
    "    return slicernb.ModelDisplay(outModel, orientation=[0,-90,0])"
   ]
  },
  {
   "cell_type": "code",
   "execution_count": null,
   "metadata": {},
   "outputs": [],
   "source": [
    "# Save the created model to file\n",
    "\n",
    "numberOfModelPoints = outModel.GetPolyData().GetNumberOfPoints()\n",
    "if numberOfModelPoints > 50e3:\n",
    "    print(f\"Saving a large model ({numberOfModelPoints} points), it may take a few minutes...\")\n",
    "\n",
    "outputFile = \"segmented-model.stl\"\n",
    "slicer.util.saveNode(outModel, slicernb.localPath(outputFile))"
   ]
  },
  {
   "cell_type": "markdown",
   "metadata": {},
   "source": [
    "#### Run this example in your browser using Binder: [![Binder](https://mybinder.org/badge.svg)](https://mybinder.org/v2/gh/slicer/SlicerNotebooks/master?filepath=02_Data_processing.ipynb)"
   ]
  },
  {
   "cell_type": "code",
   "execution_count": null,
   "metadata": {},
   "outputs": [],
   "source": []
  }
 ],
 "metadata": {
  "kernelspec": {
   "display_name": "Slicer 4.13",
   "language": "python",
   "name": "slicer-4.13"
  },
  "language_info": {
   "file_extension": ".py",
   "mimetype": "text/x-python",
   "name": "python",
   "version": "3.9.10"
  }
 },
 "nbformat": 4,
 "nbformat_minor": 4
}
