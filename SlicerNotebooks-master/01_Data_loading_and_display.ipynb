{
 "cells": [
  {
   "cell_type": "markdown",
   "metadata": {},
   "source": [
    "# Data loading and visualization"
   ]
  },
  {
   "cell_type": "code",
   "execution_count": null,
   "metadata": {},
   "outputs": [],
   "source": [
    "import JupyterNotebooksLib as slicernb\n",
    "import slicer\n",
    "\n",
    "# Set viewer size to 50% of screen size\n",
    "slicernb.AppWindow.setWindowSize(scale=0.5)\n",
    "# Hide patient information from slice view\n",
    "slicernb.showSliceViewAnnotations(False)"
   ]
  },
  {
   "cell_type": "markdown",
   "metadata": {},
   "source": [
    "## 3D volume display"
   ]
  },
  {
   "cell_type": "code",
   "execution_count": null,
   "metadata": {},
   "outputs": [],
   "source": [
    "# Clear scene\n",
    "slicer.mrmlScene.Clear(False)\n",
    "\n",
    "# Load a Slicer sample data set\n",
    "import SampleData\n",
    "volume = SampleData.SampleDataLogic().downloadMRBrainTumor1()\n",
    "\n",
    "print(\"Volume size: {0}\".format(volume.GetImageData().GetDimensions()))"
   ]
  },
  {
   "cell_type": "code",
   "execution_count": null,
   "metadata": {},
   "outputs": [],
   "source": [
    "# Show slice view\n",
    "slicernb.ViewDisplay(\"OneUpRedSlice\")"
   ]
  },
  {
   "cell_type": "code",
   "execution_count": null,
   "metadata": {},
   "outputs": [],
   "source": [
    "# Lightbox view\n",
    "slicernb.ViewLightboxDisplay(\"Red\", columns=5, rows=3, rangeShrink=[45,50])"
   ]
  },
  {
   "cell_type": "code",
   "execution_count": null,
   "metadata": {},
   "outputs": [],
   "source": [
    "# Enable 3D volume rendering\n",
    "slicernb.showVolumeRendering(volume)\n",
    "\n",
    "# Show slice and 3D views\n",
    "slicernb.AppWindow.setWindowSize(scale=0.7)  # Use a bit larger size, as we'll display 4 views\n",
    "slicernb.ViewDisplay(\"FourUp\")  # You can also try: FourUp, OneUpRedSlice, OneUp3D"
   ]
  },
  {
   "cell_type": "markdown",
   "metadata": {},
   "source": [
    "## Dynamic views - Level 1. View objects + standard widgets\n",
    "- Displayed content is saved in the notebook\n",
    "- Views cannot be placed in a layout\n",
    "- Low update rate (only for small adjustment of view parameters)\n",
    "- Mouse and keyboard events are not captured"
   ]
  },
  {
   "cell_type": "code",
   "execution_count": null,
   "metadata": {},
   "outputs": [],
   "source": [
    "# Slice view display\n",
    "from ipywidgets import interact\n",
    "@interact(position=(0,100))\n",
    "def update(position=50):\n",
    "    return slicernb.ViewSliceDisplay('Red', positionPercent=position)"
   ]
  },
  {
   "cell_type": "code",
   "execution_count": null,
   "metadata": {},
   "outputs": [],
   "source": [
    "# Enable volume cropping\n",
    "displayNode = slicer.modules.volumerendering.logic().GetFirstVolumeRenderingDisplayNode(volume)\n",
    "displayNode.SetCroppingEnabled(True)\n",
    "slicer.modules.volumerendering.logic().CreateROINode(displayNode)\n",
    "roiNode = displayNode.GetROINode()\n",
    "\n",
    "# 3D view display\n",
    "slicernb.reset3DView()\n",
    "roiNode.GetDisplayNode().SetVisibility(False)  # hide the ROI box\n",
    "from ipywidgets import interact\n",
    "@interact(roll=(-90.0,90.0,5), pitch=(-90.0,90.0,5), yaw=(-180.0,180.0,5), cropx=(0,140,5), cropy=(0,240,5), cropz=(0,160,5))\n",
    "def update(roll=0, pitch=-10, yaw=30, cropx=140, cropy=240, cropz=160):\n",
    "    #roiNode.SetRadiusXYZ([cropx, cropy, cropz])\n",
    "    roiNode.SetSizeWorld([cropx, cropy, cropz])\n",
    "    return slicernb.View3DDisplay(0, orientation=[roll, pitch, yaw])"
   ]
  },
  {
   "cell_type": "markdown",
   "metadata": {},
   "source": [
    "## Dynamic views - Level 2. View widgets\n",
    "- Widgets can be placed in a layout\n",
    "- Widget state (displayed content) is not saved in the notebook by default\n",
    "- Low update rate (only for small adjustment of view parameters)\n",
    "- Mouse and keyboard events are not captured"
   ]
  },
  {
   "cell_type": "code",
   "execution_count": null,
   "metadata": {
    "tags": []
   },
   "outputs": [],
   "source": [
    "# Slice widgets\n",
    "import JupyterNotebooksLib as slicernb\n",
    "from ipywidgets import HBox\n",
    "slicernb.ViewSliceWidget('Red')\n",
    "display(HBox([slicernb.ViewSliceWidget('Red'), slicernb.ViewSliceWidget('Yellow'), slicernb.ViewSliceWidget('Green')]))"
   ]
  },
  {
   "cell_type": "code",
   "execution_count": null,
   "metadata": {},
   "outputs": [],
   "source": [
    "# 3D widget\n",
    "display(HBox([slicernb.ViewSliceBaseWidget('Red', width=\"40%\"), slicernb.View3DWidget(0, width=\"40%\")]))"
   ]
  },
  {
   "cell_type": "markdown",
   "metadata": {},
   "source": [
    "## Dynamic views - Level 3. Interactive view widgets\n",
    "- Some view controlling mouse and keyboard events are captured\n",
    "- Only selected view can be displayed and controlled\n",
    "- Medium update rate (somewhat usable on remote computers)"
   ]
  },
  {
   "cell_type": "code",
   "execution_count": null,
   "metadata": {
    "tags": []
   },
   "outputs": [],
   "source": [
    "# Adjust maximum rate of Slicer's Jupyter kernel consuming Jupyter messages.\n",
    "# Lower values make the notebook more responsive but too low values may make the Slicer application\n",
    "# slow to respond.\n",
    "slicer.modules.jupyterkernel.setPollIntervalSec(0.001)\n",
    "\n",
    "# 3D view\n",
    "slicernb.AppWindow.setWindowSize(scale=0.8)\n",
    "live3d = slicernb.ViewInteractiveWidget('1')\n",
    "live3d.trackMouseMove = True\n",
    "display(live3d)"
   ]
  },
  {
   "cell_type": "code",
   "execution_count": null,
   "metadata": {},
   "outputs": [],
   "source": [
    "# Slice view (use arrow keys to move between slices, right-click-and-drag to zoom in/out)\n",
    "liveRedSlice = slicernb.ViewInteractiveWidget('R')\n",
    "liveRedSlice.trackMouseMove = True\n",
    "display(liveRedSlice)"
   ]
  },
  {
   "cell_type": "markdown",
   "metadata": {},
   "source": [
    "## Interactive views - Level 4. Remote application window view\n",
    "- High update rate (suitable for working on remote computers)\n",
    "- All mouse and keyboard events are captured\n",
    "- Full application window can be displayed and controlled\n",
    "- Only available if Jupyter desktop server is configured "
   ]
  },
  {
   "cell_type": "code",
   "execution_count": null,
   "metadata": {
    "tags": []
   },
   "outputs": [],
   "source": [
    "slicernb.showVolumeRendering(volume, show=True)\n",
    "app = slicernb.AppWindow()\n",
    "app\n",
    "# Note: \"404 : Not Found\" error will be displayed if Jupyter desktop server is not configured."
   ]
  },
  {
   "cell_type": "code",
   "execution_count": null,
   "metadata": {},
   "outputs": [],
   "source": [
    "# Show full application GUI\n",
    "app.setContents(\"full\")\n",
    "slicer.util.selectModule(\"VolumeRendering\")"
   ]
  },
  {
   "cell_type": "code",
   "execution_count": null,
   "metadata": {},
   "outputs": [],
   "source": [
    "# Create link that shows the application GUI in a new browser tab\n",
    "from ipywidgets import HTML\n",
    "HTML(f\"\"\"<a href=\"{slicernb.AppWindow.defaultDesktopUrl()}\" target=\"_blank\">\n",
    "<b>Click here</b> to open application window in a new browser tab.</a>\"\"\")"
   ]
  },
  {
   "cell_type": "markdown",
   "metadata": {},
   "source": [
    "## Markups display"
   ]
  },
  {
   "cell_type": "code",
   "execution_count": null,
   "metadata": {},
   "outputs": [],
   "source": [
    "import numpy as np\n",
    "markupPoints = np.array([\n",
    "    [ 69.12484176,  -8.73226641,  -2.175     ],\n",
    "    [ 56.3258959 ,  32.61817407,  -2.175     ],\n",
    "    [ 46.15237483,  57.88788769,  -2.175     ],\n",
    "    [ 34.02739799,  74.35843751,  -2.175     ],\n",
    "    [  3.93193405,  85.64423649,  -2.175     ],\n",
    "    [-45.51061385,  62.53521954,  -2.175     ],\n",
    "    [-61.63318381, -10.01634531,  -2.175     ],\n",
    "    [-51.97287678, -54.02084408,  -2.175     ],\n",
    "    [-18.1022449 , -87.94210015,  -2.175     ],\n",
    "    [ 32.95255999, -83.64274816,  -2.175     ],\n",
    "    [ 58.6231426 , -59.59987177,  -2.175     ],\n",
    "    [ 67.88479492, -35.27503826,  -2.175     ]])\n",
    "\n",
    "closedCurve = slicer.mrmlScene.AddNewNodeByClass(\"vtkMRMLMarkupsClosedCurveNode\")\n",
    "slicer.util.updateMarkupsControlPointsFromArray(closedCurve, markupPoints)\n",
    "\n",
    "slicernb.displayable(closedCurve)"
   ]
  },
  {
   "cell_type": "code",
   "execution_count": null,
   "metadata": {},
   "outputs": [],
   "source": [
    "closedCurve.SetNthControlPointSelected(3, False)\n",
    "closedCurve.GetDisplayNode().SetSelectedColor(0,0,1)\n",
    "closedCurve.GetDisplayNode().SetGlyphScale(5)\n",
    "closedCurve.GetDisplayNode().UseGlyphScaleOn()\n",
    "slicer.util.setSliceViewerLayers(fit=True)\n",
    "slicer.modules.markups.logic().JumpSlicesToNthPointInMarkup(closedCurve.GetID(), 1)\n",
    "slicernb.AppWindow.setWindowSize(scale=0.5)\n",
    "slicernb.AppWindow.setContents(\"viewers\")\n",
    "slicernb.ViewDisplay('OneUpRedSlice', center=False)"
   ]
  },
  {
   "cell_type": "markdown",
   "metadata": {},
   "source": [
    "# Model display\n",
    "An experimental approach is used for displaying model nodes. They are rendered outside the views in the layout, therefore only this node is visible."
   ]
  },
  {
   "cell_type": "code",
   "execution_count": null,
   "metadata": {
    "tags": []
   },
   "outputs": [],
   "source": [
    "# Simple static display\n",
    "\n",
    "modelNode=slicer.modules.models.logic().AddModel(slicernb.localPath(\"data/ProstateMeanShape.stl\"))\n",
    "slicernb.displayable(modelNode)"
   ]
  },
  {
   "cell_type": "code",
   "execution_count": null,
   "metadata": {},
   "outputs": [],
   "source": [
    "# Interactive view rotation\n",
    "\n",
    "from ipywidgets import interact\n",
    "@interact(roll=(-90.0,90.0,5), pitch=(-90.0,90.0,5), yaw=(-90.0,90.0,5))\n",
    "def update(roll=0, pitch=0, yaw=0):\n",
    "    return slicernb.ModelDisplay(modelNode, orientation=[roll, pitch, yaw], imageSize=[200,200])"
   ]
  },
  {
   "cell_type": "markdown",
   "metadata": {},
   "source": [
    "# Plotting using matplotlib"
   ]
  },
  {
   "cell_type": "code",
   "execution_count": 19,
   "metadata": {},
   "outputs": [
    {
     "data": {
      "image/png": "[encoded data removed]",
      "text/plain": [
       "<JupyterNotebooksLib.display.MatplotlibDisplay at 0x1d0215256d0>"
      ]
     },
     "execution_count": 19,
     "metadata": {},
     "output_type": "execute_result"
    }
   ],
   "source": [
    "try:\n",
    "  import matplotlib\n",
    "except ModuleNotFoundError:\n",
    "  slicer.util.pip_install('matplotlib')\n",
    "  import matplotlib\n",
    "\n",
    "matplotlib.use('Agg')\n",
    "\n",
    "# Get a volume from SampleData and compute its histogram\n",
    "import numpy as np\n",
    "histogram = np.histogram(slicer.util.arrayFromVolume(volume), bins=50)\n",
    "\n",
    "# Show a plot using matplotlib\n",
    "import matplotlib.pyplot as plt\n",
    "fig, ax = plt.subplots()\n",
    "ax.plot(histogram[1][1:], histogram[0].astype(float))\n",
    "ax.grid(True)\n",
    "ax.set_ylim((0, 4e5))\n",
    "\n",
    "slicernb.MatplotlibDisplay(plt)"
   ]
  },
  {
   "cell_type": "markdown",
   "metadata": {},
   "source": [
    "#### Run this example in your browser using Binder: [![Binder](https://mybinder.org/badge.svg)](https://mybinder.org/v2/gh/slicer/SlicerNotebooks/master?filepath=01_Data_loading_and_display.ipynb)"
   ]
  }
 ],
 "metadata": {
  "kernelspec": {
   "display_name": "Slicer 4.13",
   "language": "python",
   "name": "slicer-4.13"
  },
  "language_info": {
   "file_extension": ".py",
   "mimetype": "text/x-python",
   "name": "python",
   "version": "3.9.10"
  }
 },
 "nbformat": 4,
 "nbformat_minor": 4
}
