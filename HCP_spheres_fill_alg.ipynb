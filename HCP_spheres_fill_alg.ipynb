{
 "cells": [
  {
   "cell_type": "code",
   "execution_count": null,
   "metadata": {
    "pycharm": {
     "is_executing": true
    }
   },
   "outputs": [],
   "source": [
    "import numpy as np\n",
    "from scipy.spatial import ConvexHull\n",
    "import trimesh\n",
    "from matplotlib import pyplot as plt\n",
    "from typing import List, Dict\n",
    "import itertools"
   ]
  },
  {
   "cell_type": "markdown",
   "metadata": {},
   "source": [
    "Проверка наличия блендера на устройстве, чтобы использовать его движок в дальнейшем."
   ]
  },
  {
   "cell_type": "code",
   "execution_count": null,
   "metadata": {},
   "outputs": [],
   "source": [
    "print(trimesh.interfaces.blender.exists)\n",
    "engine = 'blender'\n"
   ]
  },
  {
   "cell_type": "markdown",
   "metadata": {},
   "source": [
    "Загрузка моделей, где cube - это предпологаемая зона интереса(ЗИ), а ball - сфера, которая будет покрывать зону."
   ]
  },
  {
   "cell_type": "code",
   "execution_count": null,
   "metadata": {
    "pycharm": {
     "is_executing": true,
     "name": "#%%\n"
    }
   },
   "outputs": [],
   "source": [
    "ball = trimesh.load_mesh('resources/ball.stl')\n",
    "cube = trimesh.load_mesh('resources/cube.stl')\n",
    "ball = ball.apply_scale(5)\n",
    "# cube = cube.apply_scale(0.5)"
   ]
  },
  {
   "cell_type": "code",
   "execution_count": null,
   "metadata": {},
   "outputs": [],
   "source": [
    "def ball_radius(ball: trimesh.Trimesh) -> float:\n",
    "    vertexes = trimesh.bounds.corners(ball.bounds)\n",
    "    source = np.array(ball.center_mass)\n",
    "    dest = np.array(vertexes[0])\n",
    "    vec = dest - source\n",
    "    return np.linalg.norm(vec) * (2 ** 0.5) / 2 / 2"
   ]
  },
  {
   "cell_type": "code",
   "execution_count": null,
   "metadata": {},
   "outputs": [],
   "source": [
    "def print_balls(balls: List[trimesh.Trimesh]) -> trimesh.scene.scene.Scene:\n",
    "    scene = trimesh.Scene()\n",
    "    for item in balls:\n",
    "        scene.add_geometry(item)\n",
    "    return scene"
   ]
  },
  {
   "cell_type": "code",
   "execution_count": null,
   "metadata": {},
   "outputs": [],
   "source": [
    "r = ball_radius(ball)\n",
    "def translation(i, j, k) -> np.array:\n",
    "    \"\"\"\n",
    "    return translation for ijk hcp sphere's pos\n",
    "    \"\"\"\n",
    "    return np.array([2*i + ((j+k) % 2), (j + ((3**0.5)*(k % 2)/3)), 2 / 3 * (6 ** 0.5) * k])\n",
    "\n",
    "\n",
    "def check_dict(balls_dict, x, y, z) -> str:\n",
    "    if balls_dict.get(z):\n",
    "        if balls_dict.get(z).get(y):\n",
    "            if balls_dict.get(z).get(y).get(x):\n",
    "                return \"exist\"\n",
    "            else:\n",
    "                return \"x\"\n",
    "        else:\n",
    "            return \"y\"\n",
    "    return \"z\"\n",
    "\n",
    "\n",
    "def fill_check(balls_dict: Dict[int, Dict[int, Dict[int, trimesh.Trimesh]]], x, y, z, tumor: trimesh.Trimesh, queue: List[np.ndarray]) -> None:\n",
    "    check = check_dict(balls_dict, x, y, z)\n",
    "    if check == \"exist\":\n",
    "        return\n",
    "    new_ball = ball.copy().apply_transform(trimesh.transformations.translation_matrix(translation(x, y, z) * r))\n",
    "    temp = list(new_ball.vertices)\n",
    "    temp.append(list(new_ball.center_mass))\n",
    "    if tumor.contains(temp).any():\n",
    "        queue.append(np.array([x + 1, y + 1, z + 1]))\n",
    "        queue.append(np.array([x - 1, y - 1, z - 1]))\n",
    "        queue.append(np.array([x + 1, y, z]))\n",
    "        queue.append(np.array([x, y + 1, z]))\n",
    "        queue.append(np.array([x, y, z + 1]))\n",
    "        queue.append(np.array([x - 1, y, z]))\n",
    "        queue.append(np.array([x, y - 1, z]))\n",
    "        queue.append(np.array([x, y, z - 1]))\n",
    "        queue.append(np.array([x + 1, y, z + 1]))\n",
    "        queue.append(np.array([x, y + 1, z + 1]))\n",
    "        queue.append(np.array([x + 1, y + 1, z]))\n",
    "        queue.append(np.array([x - 1, y, z - 1]))\n",
    "        queue.append(np.array([x, y - 1, z - 1]))\n",
    "        queue.append(np.array([x - 1, y - 1, z]))\n",
    "    else:\n",
    "        return\n",
    "    if check == \"x\":\n",
    "        balls_dict[z][y][x] = new_ball\n",
    "    elif check == \"y\":\n",
    "        balls_dict[z][y] = {x: new_ball}\n",
    "    elif check == \"z\":\n",
    "        balls_dict[z] = {y: {x: new_ball}}\n",
    "    return    \n",
    "\n",
    "\n",
    "def fill_hcp(tumor: trimesh.Trimesh, ball: trimesh.Trimesh) -> List[trimesh.Trimesh]:\n",
    "    balls_dict = {}\n",
    "    balls = []\n",
    "    queue = []\n",
    "    queue.append(np.array([0, 0, 0]))\n",
    "    while(queue):\n",
    "        print(\"number of points in queue:\", len(queue))\n",
    "        item = queue.pop()\n",
    "        x = item[0]\n",
    "        y = item[1]\n",
    "        z = item[2]\n",
    "        fill_check(balls_dict, x , y , z , tumor, queue=queue)\n",
    "    for zV in balls_dict.values():\n",
    "        for yV in zV.values():\n",
    "            for xV in yV.values():\n",
    "                balls.append(xV)\n",
    "    return balls"
   ]
  },
  {
   "cell_type": "markdown",
   "metadata": {},
   "source": [
    "Заливка опухоли."
   ]
  },
  {
   "cell_type": "code",
   "execution_count": null,
   "metadata": {},
   "outputs": [],
   "source": [
    "b = fill_hcp(cube, ball)"
   ]
  },
  {
   "cell_type": "code",
   "execution_count": null,
   "metadata": {},
   "outputs": [],
   "source": [
    "print_balls(b).show()"
   ]
  },
  {
   "cell_type": "code",
   "execution_count": null,
   "metadata": {},
   "outputs": [],
   "source": [
    "buff = [cube]\n",
    "buff.extend(b)\n",
    "diff = trimesh.boolean.difference(buff, engine='blender')\n",
    "print(\"Результат операции пустота? -\", type(diff) == trimesh.scene.scene.Scene)\n",
    "diff.show()"
   ]
  },
  {
   "cell_type": "markdown",
   "metadata": {},
   "source": [
    "Смещение сфер к центру, пока опухоль не выйдет за пределы выпуклой оболочки перекрытия сферами."
   ]
  },
  {
   "cell_type": "code",
   "execution_count": null,
   "metadata": {},
   "outputs": [],
   "source": [
    "lr = 0.005\n",
    "b.reverse()\n",
    "i = 0\n",
    "contain = True\n",
    "while(contain):\n",
    "    i += 1\n",
    "    print(i, b[0].center_mass)\n",
    "    for ball in b[:-1]:\n",
    "        vec = b[-1].center_mass - ball.center_mass\n",
    "        pos = ball.center_mass\n",
    "        translate = (lr * vec * r / np.linalg.norm(vec))\n",
    "        ball.apply_transform(trimesh.transformations.translation_matrix(translate))\n",
    "    hull = trimesh.points.PointCloud(list(itertools.chain.from_iterable([list(elem.vertices) for elem in b]))).convex_hull\n",
    "    print(hull.vertices.shape)\n",
    "    #diff = trimesh.boolean.difference(buff, engine='blender')\n",
    "    contain = hull.contains(cube.vertices).all()"
   ]
  },
  {
   "cell_type": "code",
   "execution_count": null,
   "metadata": {},
   "outputs": [],
   "source": [
    "print_balls(b).show()"
   ]
  },
  {
   "cell_type": "code",
   "execution_count": null,
   "metadata": {},
   "outputs": [],
   "source": [
    "buff = [cube]\n",
    "buff.extend(b)\n",
    "diff = trimesh.boolean.difference(buff, engine='blender')\n",
    "print(\"Результат операции пустота? -\", type(diff) == trimesh.scene.scene.Scene)\n",
    "diff.show()"
   ]
  },
  {
   "cell_type": "code",
   "execution_count": null,
   "metadata": {},
   "outputs": [],
   "source": [
    "diff.volume"
   ]
  }
 ],
 "metadata": {
  "interpreter": {
   "hash": "8dfdb4837a392a4176026ad938975788d2c4909f0733ff023c6f2d5be939d393"
  },
  "kernelspec": {
   "display_name": "Python 3.8.10 ('venv': venv)",
   "language": "python",
   "name": "python3"
  },
  "language_info": {
   "codemirror_mode": {
    "name": "ipython",
    "version": 3
   },
   "file_extension": ".py",
   "mimetype": "text/x-python",
   "name": "python",
   "nbconvert_exporter": "python",
   "pygments_lexer": "ipython3",
   "version": "3.8.10"
  },
  "orig_nbformat": 4
 },
 "nbformat": 4,
 "nbformat_minor": 2
}
