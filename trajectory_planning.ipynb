{
 "cells": [
  {
   "cell_type": "code",
   "execution_count": 33,
   "metadata": {},
   "outputs": [],
   "source": [
    "import numpy as np\n",
    "import trimesh\n",
    "from matplotlib import pyplot as plt\n",
    "from typing import List, Dict\n",
    "from pydicom import dcmread\n",
    "import os"
   ]
  },
  {
   "cell_type": "markdown",
   "metadata": {},
   "source": [
    "Входными данными являются:\n",
    "\n",
    "Множество точек поверхности, через которые должен пройти инструмент. - points\n",
    "\n",
    "Точки центров РЧА. - centers\n",
    "\n",
    "DICOM данные, в которых будет проихзводиться построение пути. - dcm"
   ]
  },
  {
   "cell_type": "code",
   "execution_count": 34,
   "metadata": {},
   "outputs": [],
   "source": [
    "def load_dicom_data(path_to_dir: str) -> np.ndarray:\n",
    "    \"\"\"\n",
    "    return: binary volume, which 1 corresponds bone[300; 1900] and 0 corresponds others\n",
    "    \"\"\"\n",
    "    files = os.listdir(path_to_dir)\n",
    "    volume = []\n",
    "    for name in files:\n",
    "        file = dcmread(path_to_dir + name)\n",
    "        volume.append(((file.pixel_array <= 1900) & (file.pixel_array >= 300)) * 1)\n",
    "    return np.array(volume)\n",
    "\n",
    "\n",
    "def read_points(path: str) -> np.ndarray:\n",
    "    \"\"\"\n",
    "    return: np.array with 3D points\n",
    "    \"\"\"\n",
    "    with open(path, 'r') as file:\n",
    "        content = file.read()\n",
    "        ret = np.array([elem.split(' ') for elem in content.split('\\n')]).astype(np.float64)\n",
    "        file.close()\n",
    "    return ret\n",
    "\n"
   ]
  },
  {
   "cell_type": "code",
   "execution_count": 35,
   "metadata": {},
   "outputs": [
    {
     "ename": "FileNotFoundError",
     "evalue": "[Errno 2] No such file or directory: 'resources/native/'",
     "output_type": "error",
     "traceback": [
      "\u001b[0;31m---------------------------------------------------------------------------\u001b[0m",
      "\u001b[0;31mFileNotFoundError\u001b[0m                         Traceback (most recent call last)",
      "\u001b[1;32m/home/cailen/Projects/Python/Bachelor/trajectory_planning.ipynb Cell 4'\u001b[0m in \u001b[0;36m<cell line: 3>\u001b[0;34m()\u001b[0m\n\u001b[1;32m      <a href='vscode-notebook-cell:/home/cailen/Projects/Python/Bachelor/trajectory_planning.ipynb#ch0000003?line=0'>1</a>\u001b[0m \u001b[39m#points = read_points('path/to/points')\u001b[39;00m\n\u001b[1;32m      <a href='vscode-notebook-cell:/home/cailen/Projects/Python/Bachelor/trajectory_planning.ipynb#ch0000003?line=1'>2</a>\u001b[0m centers \u001b[39m=\u001b[39m read_points(\u001b[39m'\u001b[39m\u001b[39mresources/RCHA_points.txt\u001b[39m\u001b[39m'\u001b[39m)\n\u001b[0;32m----> <a href='vscode-notebook-cell:/home/cailen/Projects/Python/Bachelor/trajectory_planning.ipynb#ch0000003?line=2'>3</a>\u001b[0m dcm \u001b[39m=\u001b[39m load_dicom_data(\u001b[39m'\u001b[39;49m\u001b[39mresources/native/\u001b[39;49m\u001b[39m'\u001b[39;49m)\n",
      "\u001b[1;32m/home/cailen/Projects/Python/Bachelor/trajectory_planning.ipynb Cell 3'\u001b[0m in \u001b[0;36mload_dicom_data\u001b[0;34m(path_to_dir)\u001b[0m\n\u001b[1;32m      <a href='vscode-notebook-cell:/home/cailen/Projects/Python/Bachelor/trajectory_planning.ipynb#ch0000002?line=0'>1</a>\u001b[0m \u001b[39mdef\u001b[39;00m \u001b[39mload_dicom_data\u001b[39m(path_to_dir: \u001b[39mstr\u001b[39m) \u001b[39m-\u001b[39m\u001b[39m>\u001b[39m np\u001b[39m.\u001b[39mndarray:\n\u001b[1;32m      <a href='vscode-notebook-cell:/home/cailen/Projects/Python/Bachelor/trajectory_planning.ipynb#ch0000002?line=1'>2</a>\u001b[0m     \u001b[39m\"\"\"\u001b[39;00m\n\u001b[1;32m      <a href='vscode-notebook-cell:/home/cailen/Projects/Python/Bachelor/trajectory_planning.ipynb#ch0000002?line=2'>3</a>\u001b[0m \u001b[39m    return: binary volume, which 1 corresponds bone[300; 1900] and 0 corresponds others\u001b[39;00m\n\u001b[1;32m      <a href='vscode-notebook-cell:/home/cailen/Projects/Python/Bachelor/trajectory_planning.ipynb#ch0000002?line=3'>4</a>\u001b[0m \u001b[39m    \"\"\"\u001b[39;00m\n\u001b[0;32m----> <a href='vscode-notebook-cell:/home/cailen/Projects/Python/Bachelor/trajectory_planning.ipynb#ch0000002?line=4'>5</a>\u001b[0m     files \u001b[39m=\u001b[39m os\u001b[39m.\u001b[39;49mlistdir(path_to_dir)\n\u001b[1;32m      <a href='vscode-notebook-cell:/home/cailen/Projects/Python/Bachelor/trajectory_planning.ipynb#ch0000002?line=5'>6</a>\u001b[0m     volume \u001b[39m=\u001b[39m []\n\u001b[1;32m      <a href='vscode-notebook-cell:/home/cailen/Projects/Python/Bachelor/trajectory_planning.ipynb#ch0000002?line=6'>7</a>\u001b[0m     \u001b[39mfor\u001b[39;00m name \u001b[39min\u001b[39;00m files:\n",
      "\u001b[0;31mFileNotFoundError\u001b[0m: [Errno 2] No such file or directory: 'resources/native/'"
     ]
    }
   ],
   "source": [
    "#points = read_points('path/to/points')\n",
    "centers = read_points('resources/RCHA_points.txt')\n",
    "# dcm = load_dicom_data('resources/native/')"
   ]
  },
  {
   "cell_type": "code",
   "execution_count": null,
   "metadata": {},
   "outputs": [],
   "source": []
  },
  {
   "cell_type": "code",
   "execution_count": null,
   "metadata": {},
   "outputs": [],
   "source": []
  }
 ],
 "metadata": {
  "interpreter": {
   "hash": "8dfdb4837a392a4176026ad938975788d2c4909f0733ff023c6f2d5be939d393"
  },
  "kernelspec": {
   "display_name": "Python 3.8.10 ('venv': venv)",
   "language": "python",
   "name": "python3"
  },
  "language_info": {
   "codemirror_mode": {
    "name": "ipython",
    "version": 3
   },
   "file_extension": ".py",
   "mimetype": "text/x-python",
   "name": "python",
   "nbconvert_exporter": "python",
   "pygments_lexer": "ipython3",
   "version": "3.8.12"
  },
  "orig_nbformat": 4
 },
 "nbformat": 4,
 "nbformat_minor": 2
}
