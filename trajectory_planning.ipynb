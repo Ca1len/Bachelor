{
 "cells": [
  {
   "cell_type": "code",
   "execution_count": 1,
   "metadata": {},
   "outputs": [],
   "source": [
    "import numpy as np\n",
    "import trimesh\n",
    "from matplotlib import pyplot as plt\n",
    "from typing import List, Dict\n",
    "from pydicom import dcmread\n",
    "import os"
   ]
  },
  {
   "cell_type": "markdown",
   "metadata": {},
   "source": [
    "Входными данными являются:\n",
    "\n",
    "Множество точек поверхности, через которые должен пройти инструмент. - points\n",
    "\n",
    "Точки центров РЧА. - centers\n",
    "\n",
    "DICOM данные, в которых будет проихзводиться построение пути. - dcm"
   ]
  },
  {
   "cell_type": "code",
   "execution_count": null,
   "metadata": {},
   "outputs": [],
   "source": [
    "def load_dicom_data(path_to_dir: str) -> np.ndarray:\n",
    "    \"\"\"\n",
    "    return: binary volume, which 1 corresponds bone[300; 1900] and 0 corresponds others\n",
    "    \"\"\"\n",
    "    files = os.listdir(path_to_dir)\n",
    "    volume = []\n",
    "    for name in files:\n",
    "        file = dcmread(name)\n",
    "        volume.append(((file.pixel_array <= 1900) & (file.pixel_array >= 300)) * 1)\n",
    "    return np.array(volume)\n",
    "\n",
    "\n"
   ]
  }
 ],
 "metadata": {
  "interpreter": {
   "hash": "8dfdb4837a392a4176026ad938975788d2c4909f0733ff023c6f2d5be939d393"
  },
  "kernelspec": {
   "display_name": "Python 3.8.10 ('venv': venv)",
   "language": "python",
   "name": "python3"
  },
  "language_info": {
   "codemirror_mode": {
    "name": "ipython",
    "version": 3
   },
   "file_extension": ".py",
   "mimetype": "text/x-python",
   "name": "python",
   "nbconvert_exporter": "python",
   "pygments_lexer": "ipython3",
   "version": "3.8.10"
  },
  "orig_nbformat": 4
 },
 "nbformat": 4,
 "nbformat_minor": 2
}
